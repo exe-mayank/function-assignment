{
 "cells": [
  {
   "cell_type": "markdown",
   "id": "259bb070-48c3-4c29-ba18-e6303f6a4d07",
   "metadata": {},
   "source": [
    "Theory Questions\n"
   ]
  },
  {
   "cell_type": "code",
   "execution_count": null,
   "id": "9d1070b3-1642-4d81-9d20-6ba386fcc438",
   "metadata": {},
   "outputs": [],
   "source": [
    "# 1. What is the difference between a function and a method in Python?\n",
    "\n",
    "#Function is block of code that is also called by its name. (independent)\n",
    "#The function can have different parameters or may not have any at all. If any data (parameters) are passed, they are passed explicitly.\n",
    "#It may or may not return any data.\n",
    "#Function does not deal with Class and its instance concept."
   ]
  },
  {
   "cell_type": "code",
   "execution_count": 7,
   "id": "a21988b6-33b7-40c8-afb9-b805b97ba223",
   "metadata": {},
   "outputs": [
    {
     "name": "stdout",
     "output_type": "stream",
     "text": [
      "-2\n",
      "9\n"
     ]
    }
   ],
   "source": [
    "#representation of a function\n",
    "def Subtract (a, b):\n",
    "\treturn (a-b)\n",
    "\n",
    "print(Subtract(10, 12)) # prints -2\n",
    "\n",
    "print(Subtract(15, 6)) # prints 9\n"
   ]
  },
  {
   "cell_type": "code",
   "execution_count": null,
   "id": "70595446-c43f-4dcd-9854-e5cd7b2bf55d",
   "metadata": {},
   "outputs": [],
   "source": [
    "#Method is called by its name, but it is associated to an object (dependent).\n",
    "#A method definition always includes ‘self’ as its first parameter.\n",
    "#A method is implicitly passed to the object on which it is invoked.\n",
    "#It may or may not return any data.\n",
    "#A method can operate on the data (instance variables) that is contained by the corresponding class"
   ]
  },
  {
   "cell_type": "code",
   "execution_count": 8,
   "id": "2f7019fb-e6b2-4018-a2fe-deeff8e89efe",
   "metadata": {},
   "outputs": [
    {
     "name": "stdout",
     "output_type": "stream",
     "text": [
      "I am in method_abc of ABC class. \n"
     ]
    }
   ],
   "source": [
    "#representation of a method\n",
    "\n",
    "class ABC :\n",
    "\tdef method_abc (self):\n",
    "\t\tprint(\"I am in method_abc of ABC class. \")\n",
    "\n",
    "class_ref = ABC() # object of ABC class\n",
    "class_ref.method_abc()\n",
    "\n"
   ]
  },
  {
   "cell_type": "raw",
   "id": "dd3aca5a-9e01-4481-954c-ac7b3da75ffb",
   "metadata": {},
   "source": [
    "#2.  Explain the concept of function arguments and parameters in Python.\n",
    "\n",
    "Function arguments in python are the inputs passed to a function to execute a specific task. Arguments are enclosed within parentheses, separated by commas,and can be of any data type. Arguments are used to make the function more versatile and adaptable. In Python, there are several types of function arguments in python\n",
    "\n",
    "Positional arguments\n",
    "Default arguments\n",
    "Keyword arguments\n",
    "Variable-length arguments\n",
    "\n",
    "\n",
    "In Python, function parameters are the variables or placeholders specified in the function’s signature. These parameters act as receptacles for the values that will be supplied to the function when it is invoked.\n",
    "\n",
    "Function parameters are used to specify the input requirements for a function. They allow the function to receive data from the calling code and use it to perform operations or calculations. Function parameters can be of any data type, including basic data types like integers, strings, and booleans, as well as more complex data types like lists, dictionaries, and objects.\n",
    "\n",
    "In Python, function parameters can be assigned default values, which means that if an argument is not supplied when the function is called, the default value will be utilized instead. This feature is valuable for establishing optional parameters or defining a default behavior for a function."
   ]
  },
  {
   "cell_type": "code",
   "execution_count": 12,
   "id": "57c45a65-a365-4c4f-ba72-14b650820038",
   "metadata": {},
   "outputs": [
    {
     "name": "stdout",
     "output_type": "stream",
     "text": [
      "3\n"
     ]
    }
   ],
   "source": [
    "def sum(a,b):\n",
    "  print(a+b)\n",
    "  \n",
    "# Here the values 1,2 are arguments\n",
    "sum(1,2)\n"
   ]
  },
  {
   "cell_type": "code",
   "execution_count": 13,
   "id": "87646f98-7d2a-46a2-968e-05e2d28abbd2",
   "metadata": {},
   "outputs": [
    {
     "name": "stdout",
     "output_type": "stream",
     "text": [
      "3\n"
     ]
    }
   ],
   "source": [
    "# Here a,b are the parameters\n",
    "def sum(a,b):\n",
    "  print(a+b)\n",
    "  \n",
    "sum(1,2)\n"
   ]
  },
  {
   "cell_type": "markdown",
   "id": "6879b165-6372-4a02-942f-8f93518f6e29",
   "metadata": {},
   "source": [
    "#3. What are the different ways to define and call a function in Python?\n",
    "\n",
    "\n",
    "Python supports various types of functions, each serving different purposes in programming. Here are the main types of functions in Python, along with examples:\n",
    "\n",
    "1. Built-in Functions\n",
    "These functions are pre-defined in Python and can be used directly without any further declaration.\n",
    "\n",
    "Example\n",
    "# Using the built-in len() function\n",
    "\n",
    "my_list = [1, 2, 3, 4, 5]\n",
    "\n",
    "print(len(my_list))  # Output: 5\n",
    "\n",
    "2. User-defined Functions\n",
    "These are functions that users create to perform specific tasks.\n",
    "\n",
    "Example\n",
    "def add_numbers(a, b):\n",
    "\n",
    "    return a + b\n",
    "\n",
    "result = add_numbers(3, 5)\n",
    "\n",
    "print(result)  # Output: 8\n",
    "\n",
    "Seize the Opportunity: Become a Python Developer!\n",
    "Python Certification CourseENROLL NOW\n",
    "3. Anonymous Functions (Lambda Functions)\n",
    "These are small, unnamed functions defined using the lambda keyword. They are typically used for short, simple operations.\n",
    "\n",
    "Example\n",
    "add = lambda x, y: x + y\n",
    "\n",
    "print(add(3, 5))  # Output: 8\n",
    "\n",
    "4. Recursive Functions\n",
    "These are functions that call themselves within their definition. They help solve problems that can be broken down into smaller, similar problems.\n",
    "\n",
    "Example\n",
    "def factorial(n):\n",
    "\n",
    "    if n == 1:\n",
    "\n",
    "        return 1\n",
    "\n",
    "    else:\n",
    "\n",
    "        return n * factorial(n - 1)\n",
    "\n",
    "print(factorial(5))  # Output: 120\n",
    "\n",
    "5. Higher-Order Functions\n",
    "These functions can take other functions as arguments or return them as results. Examples include map(), filter(), and reduce().\n",
    "\n",
    "Example\n",
    "def square(x):\n",
    "\n",
    "    return x * x\n",
    "\n",
    "numbers = [1, 2, 3, 4, 5]\n",
    "\n",
    "squared_numbers = list(map(square, numbers))\n",
    "\n",
    "print(squared_numbers)  # Output: [1, 4, 9, 16, 25]\n",
    "\n",
    "Skyrocket Your Career: Earn Top Salaries!\n",
    "Python Certification CourseENROLL NOW\n",
    "6. Generator Functions\n",
    "These functions yield values one at a time and can produce a sequence of values over time, using the yield keyword.\n",
    "\n",
    "Example\n",
    "def generate_numbers():\n",
    "\n",
    "    for i in range(1, 6):\n",
    "\n",
    "        yield i\n",
    "\n",
    "for number in generate_numbers():\n",
    "\n",
    "    print(number)  # Output: 1 2 3 4 5"
   ]
  },
  {
   "cell_type": "markdown",
   "id": "bca9ace5-13b7-4a2b-98d8-d8a415058956",
   "metadata": {},
   "source": [
    "#4. What is the purpose of the `return` statement in a Python function?\n",
    "\n",
    "A return statement is used to end the execution of the function call and “returns” the result (value of the expression following the return keyword) to the caller. The statements after the return statements are not executed. If the return statement is without any expression, then the special value None is returned. A return statement is overall used to invoke a function so that the passed statements can be executed."
   ]
  },
  {
   "cell_type": "code",
   "execution_count": 27,
   "id": "fd2cf7bb-5211-4dcd-94ea-5ce2aaffd0ce",
   "metadata": {},
   "outputs": [
    {
     "name": "stdout",
     "output_type": "stream",
     "text": [
      "Result of add function is 5\n",
      "\n",
      "Result of is_true function is True\n"
     ]
    }
   ],
   "source": [
    "# Python program to \n",
    "# demonstrate return statement \n",
    "\n",
    "def add(a, b):\n",
    "\n",
    "    # returning sum of a and b\n",
    "    return a + b\n",
    "\n",
    "def is_true(a):\n",
    "\n",
    "    # returning boolean of a\n",
    "    return bool(a)\n",
    "\n",
    "# calling function\n",
    "res = add(2, 3)\n",
    "print(\"Result of add function is {}\".format(res))\n",
    "\n",
    "res = is_true(2<5)\n",
    "print(\"\\nResult of is_true function is {}\".format(res))\n"
   ]
  },
  {
   "cell_type": "markdown",
   "id": "3cf5eec7-4640-4604-95d1-9ca0a06e53e0",
   "metadata": {},
   "source": [
    "#5. What are iterators in Python and how do they differ from iterables?\n"
   ]
  },
  {
   "cell_type": "markdown",
   "id": "823d5f75-d11a-45b1-8d40-1d59451cb95d",
   "metadata": {},
   "source": [
    "An ITERABLE is:\n",
    "\n",
    "anything that can be looped over (i.e. you can loop over a string or file) or\n",
    "anything that can appear on the right-side of a for-loop: for x in iterable: ... or\n",
    "anything you can call with iter() that will return an ITERATOR: iter(obj) or\n",
    "an object that defines __iter__ that returns a fresh ITERATOR, or it may have a __getitem__ method suitable for indexed lookup.\n",
    "An ITERATOR is an object:\n",
    "\n",
    "with state that remembers where it is during iteration,\n",
    "with a __next__ method that:\n",
    "returns the next value in the iteration\n",
    "updates the state to point at the next value\n",
    "signals when it is done by raising StopIteration\n",
    "and that is self-iterable (meaning that it has an __iter__ method that returns self).\n",
    "Notes:\n",
    "\n",
    "The __next__ method in Python 3 is spelt next in Python 2, and\n",
    "The builtin function next() calls that method on the object passed to it."
   ]
  },
  {
   "cell_type": "code",
   "execution_count": 36,
   "id": "d9a03ae0-42a0-43c7-b46c-60c7d0467c0c",
   "metadata": {},
   "outputs": [
    {
     "name": "stdout",
     "output_type": "stream",
     "text": [
      "1\n",
      "2\n",
      "3\n"
     ]
    }
   ],
   "source": [
    "# Example of an iterable (a list)\n",
    "my_list = [1, 2, 3]\n",
    "for item in my_list:\n",
    "    print(item)\n"
   ]
  },
  {
   "cell_type": "code",
   "execution_count": 37,
   "id": "fb0ce17f-c04e-4d22-a300-7e66fabf5cca",
   "metadata": {},
   "outputs": [
    {
     "name": "stdout",
     "output_type": "stream",
     "text": [
      "1\n",
      "2\n",
      "3\n"
     ]
    }
   ],
   "source": [
    "# Example of using an iterator\n",
    "my_list = [1, 2, 3]\n",
    "my_iterator = iter(my_list)  # Get an iterator from the iterable\n",
    "\n",
    "print(next(my_iterator))  # Outputs: 1\n",
    "print(next(my_iterator))  # Outputs: 2\n",
    "print(next(my_iterator))  # Outputs: 3\n",
    "# print(next(my_iterator))  # Raises StopIteration because there are no more elements"
   ]
  },
  {
   "cell_type": "raw",
   "id": "3d257214-d87d-4253-a136-dc3df6c9091f",
   "metadata": {},
   "source": [
    "#6.. Explain the concept of generators in Python and how they are defined.\n",
    "\n",
    "Python's generator functions are used to create iterators(which can be traversed like list, tuple) and return a traversal object. It helps to transverse all the items one at a time present in the iterator.\n",
    "\n",
    "Generator functions are defined as the normal function, but to identify the difference between the normal function and generator function is that in the normal function, we use the return keyword to return the values, and in the generator function, instead of using the return, we use yield to execute our iterator.\n",
    "\n",
    "\n",
    "Use of Generators in Python\n",
    "1. Easy to Implement:\n",
    "Generator functions are easy to implement as compared with iterators. In iterators, we have to implement iter(), __next__() function to make our iterator work.\n",
    "\n",
    "2. Memory Efficient:\n",
    "Generator Functions are memory efficient, as they save a lot of memory while using generators. A normal function will return a sequence of items, but before giving the result, it creates a sequence in memory and then gives us the result, whereas the generator function produces one output at a time.\n",
    "\n",
    "3. Infinite Sequence:\n",
    "We all are familiar that we can't store infinite sequences in a given memory. This is where generators come into the picture. As generators can only produce one item at a time, so they can present an infinite stream of data/sequence."
   ]
  },
  {
   "cell_type": "code",
   "execution_count": 38,
   "id": "aee11c85-7d77-4751-8eee-3cec5fc4e482",
   "metadata": {},
   "outputs": [
    {
     "name": "stdout",
     "output_type": "stream",
     "text": [
      "1\n",
      "2\n",
      "3\n",
      "5\n",
      "6\n",
      "7\n",
      "9\n",
      "10\n",
      "11\n"
     ]
    }
   ],
   "source": [
    "def infinite():\n",
    "    n = 0\n",
    "    while True:\n",
    "        yield n\n",
    "        n += 1\n",
    "        \n",
    "for i in infinite():\n",
    "    if i%4 == 0:\n",
    "        continue\n",
    "    elif i == 13:\n",
    "        break\n",
    "    else:\n",
    "        print(i)\n"
   ]
  },
  {
   "cell_type": "raw",
   "id": "d54de49a-6289-469c-98e4-0cd0aed5b458",
   "metadata": {},
   "source": [
    "#7. What are the advantages of using generators over regular functions\n",
    "\n",
    "Generators in Python offer several advantages over regular functions, particularly in situations where managing memory and improving performance is essential. Here are some key advantages:\n",
    "\n",
    "1. Memory Efficiency\n",
    "Lazy Evaluation: Generators produce items one at a time and only when requested, rather than computing and storing all the values at once in memory. This is particularly useful when working with large data sets or infinite sequences.\n",
    "No Memory Overhead: Since generators yield items one at a time, they avoid the memory overhead associated with creating and storing large lists or other collections.\n",
    "2. Improved Performance\n",
    "Faster Execution: Generators can start producing results immediately, without waiting to compute the entire output, leading to faster initial results in many cases.\n",
    "Efficiency in Iteration: For tasks that require iterating through a large dataset, generators can be more efficient because they don’t require the entire dataset to be loaded into memory.\n",
    "3. Simplified Code\n",
    "State Retention: Generators can maintain their own internal state, which makes it easier to write functions that need to produce a series of related results over time (e.g., reading large files line by line).\n",
    "Cleaner Syntax: Generators often result in cleaner, more readable code, especially for complex iteration patterns. The yield statement is more intuitive for certain tasks than managing the iteration manually.\n",
    "4. Infinite Sequences\n",
    "Generating Infinite Sequences: Generators can be used to create infinite sequences, such as a sequence of natural numbers, without ever running out of memory. A regular function attempting to do the same would lead to memory exhaustion.\n",
    "5. Pipeline Creation\n",
    "Composing Pipelines: Generators can be chained together to form a pipeline of operations. This is particularly powerful when processing streams of data, as each generator in the pipeline processes data one piece at a time, in a memory-efficient manner.\n",
    "6. Stateful Iterators\n",
    "Simplified Stateful Iteration: Generators maintain state between each yield without requiring additional data structures or managing indexes, which simplifies the logic when state must be retained across iterations.\n",
    "7. Asynchronous Programming\n",
    "Integration with Async: In Python, asynchronous generators (async def with yield) are especially useful in asynchronous programming, enabling efficient handling of I/O-bound tasks without blocking the event loop.\n",
    "8. Ease of Conversion\n",
    "From Functions to Generators: Regular functions that return lists can often be easily converted into generators by replacing return with yield. This conversion can provide immediate performance and memory usage benefits."
   ]
  },
  {
   "cell_type": "code",
   "execution_count": 4,
   "id": "c7d807eb-1197-4396-ad67-9862ba73837a",
   "metadata": {},
   "outputs": [],
   "source": [
    "# Regular function\n",
    "def generate_squares(n):\n",
    "    result = []\n",
    "    for i in range(n):\n",
    "        result.append(i * i)\n",
    "    return result\n",
    "\n",
    "# Generator function\n",
    "def generate_squares_gen(n):\n",
    "    for i in range(n):\n",
    "        yield i * i\n",
    "\n",
    "# Using the regular function\n",
    "squares = generate_squares(10)\n",
    "# Consumes memory equivalent to storing 10 integers\n",
    "\n",
    "# Using the generator\n",
    "squares_gen = generate_squares_gen(10)\n",
    "# Consumes minimal memory, producing one square at a time\n"
   ]
  },
  {
   "cell_type": "raw",
   "id": "f6b0a675-0e92-44c0-88d7-0de687dcbdc8",
   "metadata": {},
   "source": [
    "#8. What is a lambda function in Python and when is it typically used?\n",
    "\n",
    "A lambda function is an anonymous function (i.e., defined without a name) that can take any number of arguments but, unlike normal functions, evaluates and returns only one expression.\n",
    "\n",
    "A lambda function in Python has the following syntax:\n",
    "\n",
    "lambda parameters: expression\n",
    "\n",
    "The anatomy of a lambda function includes three elements:\n",
    "\n",
    "The keyword lambda — an analog of def in normal functions\n",
    "The parameters — support passing positional and keyword\n",
    "arguments, just like normal functions\n",
    "The body — the expression for given parameters being evaluated\n",
    "with the lambda function\n",
    "\n",
    "\n",
    "Lambda functions are typically used in scenarios where a small, simple function is required for a short duration. Here are some common use cases:\n",
    "\n",
    "As Arguments to Higher-Order Functions:\n",
    "\n",
    "Lambda functions are often used as arguments to functions like map(), filter(), and sorted(), which take another function as an argument.\n",
    "\n",
    "In Sorting with Custom Key Functions:\n",
    "\n",
    "When sorting a list of tuples or objects, lambda functions are commonly used to define a custom sorting key.\n",
    "\n",
    "For Short, Inline Functions:\n",
    "\n",
    "Lambda functions are useful for short, throwaway functions that are not reused.\n",
    "\n",
    "In GUI Programming or Callbacks:\n",
    "\n",
    "In GUI programming or asynchronous operations, lambda functions are often used to define small callback functions.\n",
    "\n",
    "For Small Conditional Operations:\n",
    "\n",
    "Lambda functions can be used for quick conditional logic within a larger function or expression."
   ]
  },
  {
   "cell_type": "raw",
   "id": "d62e9475-440c-46c6-bcd0-bc1f9f269997",
   "metadata": {},
   "source": [
    "#9. Explain the purpose and usage of the `map()` function in Python.\n",
    "\n",
    "The map() function in Python is used to apply a given function to each item in an iterable (like a list or a tuple) and return a map object (which is an iterator) containing the results. The map() function is particularly useful when you want to transform or process all elements in an iterable in a single, concise operation.\n",
    "\n"
   ]
  },
  {
   "cell_type": "code",
   "execution_count": 5,
   "id": "421e130b-9a7f-4f56-b220-445ffab909a8",
   "metadata": {},
   "outputs": [
    {
     "name": "stdout",
     "output_type": "stream",
     "text": [
      "[12, 18, 42, 88]\n"
     ]
    }
   ],
   "source": [
    "# Using Map() with Lambda Functions\n",
    "#In the code mentioned below, you will use a lambda function to double the numbers in the iterable using the map function.\n",
    "\n",
    "num = (6, 9, 21, 44)\n",
    "\n",
    "resu = map(lambda i: i + i, num)\n",
    "\n",
    "print(list(resu))"
   ]
  },
  {
   "cell_type": "code",
   "execution_count": 8,
   "id": "228fcdc0-a502-40f4-adf2-47cb1b00d083",
   "metadata": {},
   "outputs": [
    {
     "name": "stdout",
     "output_type": "stream",
     "text": [
      "<map object at 0x7c7ddaf8c1c0>\n",
      "['T', 'H', 'I', 'S', ' ', 'I', 'S', ' ', 'S', 'I', 'M', 'P', 'L', 'I', 'L', 'E', 'A', 'R', 'N']\n"
     ]
    }
   ],
   "source": [
    "#Using Map in Python as an Iterator\n",
    "def upper(n):\n",
    "    return n.upper()\n",
    "\n",
    "stri = (\"This is Simplilearn\")\n",
    "\n",
    "upd_list = map(upper, stri)\n",
    "\n",
    "print(upd_list)\n",
    "\n",
    "print(list(upd_list))"
   ]
  },
  {
   "cell_type": "code",
   "execution_count": 10,
   "id": "ea6377d5-3945-4deb-b011-b606f0a034bc",
   "metadata": {},
   "outputs": [
    {
     "name": "stdout",
     "output_type": "stream",
     "text": [
      "<map object at 0x7c7ddaf8d000>\n",
      "('THIS', 'IS', 'MAP', 'IN', 'PYTHON', 'ARTICLE')\n"
     ]
    }
   ],
   "source": [
    "#Map() with Tuple\n",
    "def example(s):\n",
    "    return s.upper()\n",
    "\n",
    "tuple_exm = ('this','is','map','in','python', 'article')\n",
    "\n",
    "upd_tup = map(example, tuple_exm)\n",
    "\n",
    "print(upd_tup)\n",
    "\n",
    "print(tuple(upd_tup))"
   ]
  },
  {
   "cell_type": "code",
   "execution_count": 11,
   "id": "e4f9beba-b0f4-4551-a5ea-6e0dd6e67a1b",
   "metadata": {},
   "outputs": [
    {
     "name": "stdout",
     "output_type": "stream",
     "text": [
      "The modified dictionary is : \n",
      "{'a': 'Mercedes-Benz_', 'b': 'BMW_', 'c': 'Ferrari_', 'd': 'Lamborghini_', 'e': 'Jeep_'}\n"
     ]
    }
   ],
   "source": [
    "#Using Dictionary with Map()\n",
    "\n",
    "car_dict ={'a': 'Mercedes-Benz', 'b': 'BMW', 'c': 'Ferrari', 'd': 'Lamborghini', 'e': 'Jeep'}\n",
    "\n",
    "# adding an '_' to the end of each value\n",
    "\n",
    "car_dict = dict(map(lambda x: (x[0], x[1] + '_'), car_dict.items() ))\n",
    "\n",
    "print('The modified dictionary is : ')\n",
    "\n",
    "print(car_dict)"
   ]
  },
  {
   "cell_type": "code",
   "execution_count": 13,
   "id": "70ead075-cc63-42a1-a26d-d94094e8a56f",
   "metadata": {},
   "outputs": [
    {
     "name": "stdout",
     "output_type": "stream",
     "text": [
      "<map object at 0x7c7ddaf8d3c0>\n",
      "{0, 1, 2}\n"
     ]
    }
   ],
   "source": [
    "#Using Set and Map()\n",
    "def example(i):\n",
    "    return i%3\n",
    "\n",
    "set_exm = {33, 102, 62, 96, 44, 28, 227}\n",
    "\n",
    "upd_itms = map(example, set_exm)\n",
    "\n",
    "print(upd_itms)\n",
    "\n",
    "print(set(upd_itms))"
   ]
  },
  {
   "cell_type": "raw",
   "id": "fa4c568a-8e67-4fb1-83a0-68b9df5c77fe",
   "metadata": {},
   "source": [
    "# 10. What is the difference between `map()`, `reduce()`, and `filter()` functions in Python?\n",
    "\n",
    "In Python, map(), reduce(), and filter() are higher-order functions that are commonly used for processing collections like lists. Each function serves a distinct purpose:\n",
    "\n",
    "map()\n",
    "Purpose: The map() function applies a given function to all items in an input list (or any iterable) and returns a map object (which is an iterator) of the results.\n",
    "Syntax: map(function, iterable, ...)\n",
    "Usage: Use map() when you want to transform all elements in an iterable by applying a function to each element.\n",
    "\n"
   ]
  },
  {
   "cell_type": "code",
   "execution_count": 14,
   "id": "07da561f-00ed-4693-8fc1-66029e9b1a59",
   "metadata": {},
   "outputs": [
    {
     "name": "stdout",
     "output_type": "stream",
     "text": [
      "[1, 4, 9, 16]\n"
     ]
    }
   ],
   "source": [
    "numbers = [1, 2, 3, 4]\n",
    "squared = map(lambda x: x**2, numbers)\n",
    "print(list(squared))  # Output: [1, 4, 9, 16]\n"
   ]
  },
  {
   "cell_type": "code",
   "execution_count": 15,
   "id": "fee8322a-10c6-449d-ab24-44925657320b",
   "metadata": {},
   "outputs": [
    {
     "name": "stdout",
     "output_type": "stream",
     "text": [
      "[2, 4, 6]\n"
     ]
    }
   ],
   "source": [
    "#filter()\n",
    "#Purpose: The filter() function filters the elements in an iterable, returning only those elements for which the function returns True.\n",
    "#Syntax: filter(function, iterable)\n",
    "#Usage: Use filter() when you want to select a subset of elements that satisfy a certain condition.\n",
    "\n",
    "numbers = [1, 2, 3, 4, 5, 6]\n",
    "even_numbers = filter(lambda x: x % 2 == 0, numbers)\n",
    "print(list(even_numbers))  # Output: [2, 4, 6]\n"
   ]
  },
  {
   "cell_type": "code",
   "execution_count": 16,
   "id": "0b100882-5407-4b03-8e1b-72140d2112bc",
   "metadata": {},
   "outputs": [
    {
     "name": "stdout",
     "output_type": "stream",
     "text": [
      "24\n"
     ]
    }
   ],
   "source": [
    "#reduce()\n",
    "#Purpose: The reduce() function applies a rolling computation to sequential pairs of values in a list (or any iterable) to reduce it to a single cumulative value. It is part of the functools module, so you need to import it.\n",
    "#Syntax: reduce(function, iterable[, initializer])\n",
    "#Usage: Use reduce() when you need to apply a function cumulatively to the items of an iterable, reducing it to a single value.\n",
    "\n",
    "from functools import reduce\n",
    "numbers = [1, 2, 3, 4]\n",
    "product = reduce(lambda x, y: x * y, numbers)\n",
    "print(product)  # Output: 24\n",
    "\n"
   ]
  },
  {
   "cell_type": "code",
   "execution_count": null,
   "id": "976845f7-d8bc-44d2-9b4a-66f56b1ce9ab",
   "metadata": {},
   "outputs": [],
   "source": [
    "#11. Using pen & Paper write the internal mechanism for sum operation using  reduce function on this given\n",
    "#list:[47,11,42,13];\n",
    "\n",
    "# (Attach paper image for this answer) in doc or colab notebook."
   ]
  },
  {
   "cell_type": "code",
   "execution_count": null,
   "id": "17a37928-9378-484f-a299-67fbb28d8885",
   "metadata": {},
   "outputs": [],
   "source": [
    "Practical Question"
   ]
  },
  {
   "cell_type": "code",
   "execution_count": 1,
   "id": "b1da5ca2-e06d-4457-ba02-f924b1b8ac25",
   "metadata": {},
   "outputs": [
    {
     "name": "stdout",
     "output_type": "stream",
     "text": [
      "60\n"
     ]
    }
   ],
   "source": [
    "#1. Write a Python function that takes a list of numbers as input and returns the sum of all even numbers in the list.\n",
    "\n",
    "def sum_of_even_numbers(numbers):\n",
    "    even_sum = 0\n",
    "    for num in numbers:\n",
    "        if num % 2 == 0:\n",
    "            even_sum += num\n",
    "    return even_sum\n",
    "\n",
    "\n",
    "numbers = [10, 15, 20, 25, 30]\n",
    "print(sum_of_even_numbers(numbers))\n",
    "\n",
    "\n"
   ]
  },
  {
   "cell_type": "code",
   "execution_count": 2,
   "id": "5478d12c-bd45-41aa-bb43-959b8ab85090",
   "metadata": {},
   "outputs": [
    {
     "name": "stdout",
     "output_type": "stream",
     "text": [
      "dlrow\n"
     ]
    }
   ],
   "source": [
    "# 2. Create a Python function that accepts a string and returns the reverse of that string.\n",
    "\n",
    "def reverse_string(s):\n",
    "    reversed_str = ''\n",
    "    for char in s:\n",
    "        reversed_str = char + reversed_str\n",
    "    return reversed_str\n",
    "\n",
    "\n",
    "input_string = \"world\"\n",
    "print(reverse_string(input_string))"
   ]
  },
  {
   "cell_type": "code",
   "execution_count": 3,
   "id": "d5d6d63f-9603-440b-9892-e0828624ea62",
   "metadata": {},
   "outputs": [
    {
     "name": "stdout",
     "output_type": "stream",
     "text": [
      "[4, 16, 36, 64, 100]\n"
     ]
    }
   ],
   "source": [
    "#3.  Implement a Python function that takes a list of integers and returns a new list containing the squares of each number.\n",
    "\n",
    "def square_numbers(numbers):\n",
    "    return list(map(lambda x: x ** 2, numbers))\n",
    "\n",
    "\n",
    "numbers = [2, 4, 6, 8, 10]\n",
    "print(square_numbers(numbers))"
   ]
  },
  {
   "cell_type": "code",
   "execution_count": 4,
   "id": "ce263f91-cba4-4eb0-9057-f07ac5ba0e2d",
   "metadata": {},
   "outputs": [
    {
     "name": "stdout",
     "output_type": "stream",
     "text": [
      "2 is a prime number\n",
      "3 is a prime number\n",
      "5 is a prime number\n",
      "7 is a prime number\n",
      "11 is a prime number\n",
      "13 is a prime number\n",
      "17 is a prime number\n",
      "19 is a prime number\n",
      "23 is a prime number\n",
      "29 is a prime number\n",
      "31 is a prime number\n",
      "37 is a prime number\n",
      "41 is a prime number\n",
      "43 is a prime number\n",
      "47 is a prime number\n",
      "53 is a prime number\n",
      "59 is a prime number\n",
      "61 is a prime number\n",
      "67 is a prime number\n",
      "71 is a prime number\n",
      "73 is a prime number\n",
      "79 is a prime number\n",
      "83 is a prime number\n",
      "89 is a prime number\n",
      "97 is a prime number\n",
      "101 is a prime number\n",
      "103 is a prime number\n",
      "107 is a prime number\n",
      "109 is a prime number\n",
      "113 is a prime number\n",
      "127 is a prime number\n",
      "131 is a prime number\n",
      "137 is a prime number\n",
      "139 is a prime number\n",
      "149 is a prime number\n",
      "151 is a prime number\n",
      "157 is a prime number\n",
      "163 is a prime number\n",
      "167 is a prime number\n",
      "173 is a prime number\n",
      "179 is a prime number\n",
      "181 is a prime number\n",
      "191 is a prime number\n",
      "193 is a prime number\n",
      "197 is a prime number\n",
      "199 is a prime number\n"
     ]
    }
   ],
   "source": [
    "#4. Write a Python function that checks if a given number is prime or not from 1 to 200\n",
    "\n",
    "def is_prime(n):\n",
    "    if n <= 1:\n",
    "        return False\n",
    "    if n == 2:\n",
    "        return True\n",
    "    if n % 2 == 0:\n",
    "        return False\n",
    "    for i in range(3, int(n**0.5) + 1, 2):\n",
    "        if n % i == 0:\n",
    "            return False\n",
    "    return True\n",
    "\n",
    "\n",
    "# Checking all prime numbers between 1 and 200\n",
    "for num in range(1, 201):\n",
    "    if is_prime(num):\n",
    "        print(f\"{num} is a prime number\")"
   ]
  },
  {
   "cell_type": "code",
   "execution_count": 5,
   "id": "08c1e4a6-557d-4fae-9a95-8f003f822715",
   "metadata": {},
   "outputs": [
    {
     "name": "stdout",
     "output_type": "stream",
     "text": [
      "0\n",
      "1\n",
      "1\n",
      "2\n",
      "3\n",
      "5\n",
      "8\n",
      "13\n",
      "21\n",
      "34\n"
     ]
    }
   ],
   "source": [
    "#5.Create an iterator class in Python that generates the Fibonacci sequence up to a specified number of terms.\n",
    "\n",
    "class FibonacciIterator:\n",
    "    def __init__(self, n_terms):\n",
    "        self.n_terms = n_terms\n",
    "        self.current = 0\n",
    "        self.next = 1\n",
    "        self.count = 0\n",
    "\n",
    "    def __iter__(self):\n",
    "        return self\n",
    "\n",
    "    def __next__(self):\n",
    "        if self.count >= self.n_terms:\n",
    "            raise StopIteration\n",
    "        if self.count == 0:\n",
    "            self.count += 1\n",
    "            return self.current\n",
    "        elif self.count == 1:\n",
    "            self.count += 1\n",
    "            return self.next\n",
    "        else:\n",
    "            fib = self.current + self.next\n",
    "            self.current, self.next = self.next, fib\n",
    "            self.count += 1\n",
    "            return fib\n",
    "\n",
    "\n",
    "fib_sequence = FibonacciIterator(10)\n",
    "for num in fib_sequence:\n",
    "    print(num) \n"
   ]
  },
  {
   "cell_type": "code",
   "execution_count": 6,
   "id": "0232c29a-bd90-4a9e-98bd-9bca784088dc",
   "metadata": {},
   "outputs": [
    {
     "name": "stdout",
     "output_type": "stream",
     "text": [
      "1\n",
      "2\n",
      "4\n",
      "8\n",
      "16\n",
      "32\n"
     ]
    }
   ],
   "source": [
    "#6. Write a generator function in Python that yields the powers of 2 up to a given exponent.\n",
    "\n",
    "def powers_of_two(max_exponent):\n",
    "    for exponent in range(max_exponent + 1):\n",
    "        yield 2 ** exponent\n",
    "\n",
    "\n",
    "for power in powers_of_two(5):\n",
    "    print(power) \n"
   ]
  },
  {
   "cell_type": "code",
   "execution_count": 26,
   "id": "dcea73a1-4861-44ee-857c-d1ac0793d5cb",
   "metadata": {},
   "outputs": [
    {
     "name": "stdout",
     "output_type": "stream",
     "text": [
      "Error: The file 'example.txt' was not found.\n"
     ]
    }
   ],
   "source": [
    "# 7. Implement a generator function that reads a file line by line and yields each line as a string.\n",
    "\n",
    "def read_file_line_by_line(file_path):\n",
    "    \"\"\"Generator function to read a file line by line.\"\"\"\n",
    "    try:\n",
    "        with open(file_path, 'r') as file:\n",
    "            for line in file:\n",
    "                yield line\n",
    "    except FileNotFoundError:\n",
    "        print(f\"Error: The file '{file_path}' was not found.\")\n",
    "    except IOError as e:\n",
    "        print(f\"Error: Could not read the file '{file_path}'. {e}\")\n",
    "\n",
    "# Example usage\n",
    "file_path = 'example.txt'  # Replace with your file path\n",
    "for line in read_file_line_by_line(file_path):\n",
    "    print(line, end='')  # Print each line without adding extra newlines\n"
   ]
  },
  {
   "cell_type": "code",
   "execution_count": 18,
   "id": "b5c2493c-a62c-4cd1-934a-6fff6158d72d",
   "metadata": {},
   "outputs": [
    {
     "name": "stdout",
     "output_type": "stream",
     "text": [
      "[(2, 1), (4, 2), (1, 3), (3, 5)]\n"
     ]
    }
   ],
   "source": [
    "#8. Use a lambda function in Python to sort a list of tuples based on the second element of each tuple.\n",
    "\n",
    "# List of tuples\n",
    "tuples_list = [(1, 3), (2, 1), (4, 2), (3, 5)]\n",
    "\n",
    "# Sorting the list based on the second element of each tuple\n",
    "sorted_list = sorted(tuples_list, key=lambda x: x[1])\n",
    "\n",
    "# Example output\n",
    "print(sorted_list)  # Output will be [(2, 1), (4, 2), (1, 3), (3, 5)]"
   ]
  },
  {
   "cell_type": "code",
   "execution_count": 19,
   "id": "c4e73e4a-1bbc-4066-99ae-7c78afc78cdf",
   "metadata": {},
   "outputs": [
    {
     "name": "stdout",
     "output_type": "stream",
     "text": [
      "Celsius temperatures: [0, 10, 20, 30, 40]\n",
      "Fahrenheit temperatures: [32.0, 50.0, 68.0, 86.0, 104.0]\n"
     ]
    }
   ],
   "source": [
    "#9. Write a Python program that uses `map()` to convert a list of temperatures from Celsius to Fahrenheit\n",
    "\n",
    "# Function to convert Celsius to Fahrenheit\n",
    "def celsius_to_fahrenheit(celsius):\n",
    "    return (celsius * 9/5) + 32\n",
    "\n",
    "# List of temperatures in Celsius\n",
    "celsius_temperatures = [0, 10, 20, 30, 40]\n",
    "\n",
    "# Use map() to convert the list of Celsius temperatures to Fahrenheit\n",
    "fahrenheit_temperatures = list(map(celsius_to_fahrenheit, celsius_temperatures))\n",
    "\n",
    "# Print the converted temperatures\n",
    "print(\"Celsius temperatures:\", celsius_temperatures)\n",
    "print(\"Fahrenheit temperatures:\", fahrenheit_temperatures)\n"
   ]
  },
  {
   "cell_type": "code",
   "execution_count": 20,
   "id": "4d4e5e68-baf9-44b2-8eb0-a720314224ad",
   "metadata": {},
   "outputs": [
    {
     "name": "stdout",
     "output_type": "stream",
     "text": [
      "Original string: Hello, World!\n",
      "String without vowels: Hll, Wrld!\n"
     ]
    }
   ],
   "source": [
    "#10. Create a Python program that uses `filter()` to remove all the vowels from a given string.\n",
    "\n",
    "def remove_vowels(s):\n",
    "    vowels = \"aeiouAEIOU\"\n",
    "    # Filter out characters that are vowels\n",
    "    filtered_chars = filter(lambda char: char not in vowels, s)\n",
    "    # Join the filtered characters back into a string\n",
    "    return ''.join(filtered_chars)\n",
    "\n",
    "\n",
    "input_string = \"Hello, World!\"\n",
    "result_string = remove_vowels(input_string)\n",
    "print(\"Original string:\", input_string)\n",
    "print(\"String without vowels:\", result_string)\n"
   ]
  },
  {
   "cell_type": "code",
   "execution_count": null,
   "id": "1ba24712-ba8c-47a1-bee6-0a1adf621981",
   "metadata": {},
   "outputs": [],
   "source": [
    "#11.  Imagine an accounting routine used in a book shop. It works on a list with sublists, which look like this:\n",
    "\n",
    "#Write a Python program, which returns a list with 2-tuples. Each tuple consists of the order number and the\n",
    "#product of the price per item and the quantity. The product should be increased by 10,- € if the value of the\n",
    "#order is smaller than 100,00 €.\n",
    "\n",
    "#Write a Python program using lambda and map."
   ]
  },
  {
   "cell_type": "code",
   "execution_count": null,
   "id": "3c8dbefc-7c37-4a8c-9e04-d815e9280317",
   "metadata": {},
   "outputs": [],
   "source": []
  },
  {
   "cell_type": "code",
   "execution_count": 21,
   "id": "7375baf7-0f96-460c-8ab1-e113417e00bc",
   "metadata": {},
   "outputs": [
    {
     "name": "stdout",
     "output_type": "stream",
     "text": [
      "[(34587, 163.8), (98762, 284.0), (77226, 108.85000000000001), (88112, 84.97)]\n"
     ]
    }
   ],
   "source": [
    "# Sample data representing the orders\n",
    "orders = [\n",
    "    (34587, \"Learning Python, Mark Lutz\", 4, 40.95),\n",
    "    (98762, \"Programming Python, Mark Lutz\", 5, 56.80),\n",
    "    (77226, \"Head First Python, Paul Barry\", 3, 32.95),\n",
    "    (88112, \"Einführung in Python3, Bernd Klein\", 3, 24.99)\n",
    "]\n",
    "\n",
    "# Function to calculate order totals\n",
    "def calculate_order_totals(orders):\n",
    "    return list(map(lambda order: (\n",
    "        order[0],  # Order Number\n",
    "        (order[2] * order[3]) + (10 if (order[2] * order[3]) < 100 else 0)  # Quantity * Price + $10 if below €100\n",
    "    ), orders))\n",
    "\n",
    "\n",
    "results = calculate_order_totals(orders)\n",
    "\n",
    "print(results)"
   ]
  },
  {
   "cell_type": "code",
   "execution_count": 27,
   "id": "810b16fc-316b-4b47-873c-70302c12193d",
   "metadata": {},
   "outputs": [
    {
     "name": "stdout",
     "output_type": "stream",
     "text": [
      "Sum of the list: 113\n"
     ]
    }
   ],
   "source": [
    "from functools import reduce\n",
    "\n",
    "# List of numbers\n",
    "numbers = [47, 11, 42, 13]\n",
    "\n",
    "# Define the binary function for addition\n",
    "def add(x, y):\n",
    "    return x + y\n",
    "\n",
    "# Use reduce to apply the addition function cumulatively\n",
    "total_sum = reduce(add, numbers)\n",
    "\n",
    "# Print the result\n",
    "print(\"Sum of the list:\", total_sum)"
   ]
  },
  {
   "cell_type": "code",
   "execution_count": null,
   "id": "37fa9a86-f4aa-4f67-b986-62e4ed0bf6b0",
   "metadata": {},
   "outputs": [],
   "source": []
  }
 ],
 "metadata": {
  "kernelspec": {
   "display_name": "Python 3 (ipykernel)",
   "language": "python",
   "name": "python3"
  },
  "language_info": {
   "codemirror_mode": {
    "name": "ipython",
    "version": 3
   },
   "file_extension": ".py",
   "mimetype": "text/x-python",
   "name": "python",
   "nbconvert_exporter": "python",
   "pygments_lexer": "ipython3",
   "version": "3.10.8"
  }
 },
 "nbformat": 4,
 "nbformat_minor": 5
}
